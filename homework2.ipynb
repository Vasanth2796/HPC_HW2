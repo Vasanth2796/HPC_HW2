{
 "cells": [
  {
   "cell_type": "code",
   "execution_count": 27,
   "id": "ee7b5253-6f21-4d4b-8659-daf50e9415ad",
   "metadata": {},
   "outputs": [
    {
     "name": "stdout",
     "output_type": "stream",
     "text": [
      "[2002, 2009, 2016, 2023, 2037, 2044, 2051, 2058, 2072, 2079, 2086, 2093, 2107, 2114, 2121, 2128, 2142, 2149, 2156, 2163, 2177, 2184, 2191, 2198, 2212, 2219, 2226, 2233, 2247, 2254, 2261, 2268, 2282, 2289, 2296, 2303, 2317, 2324, 2331, 2338, 2352, 2359, 2366, 2373, 2387, 2394, 2401, 2408, 2422, 2429, 2436, 2443, 2457, 2464, 2471, 2478, 2492, 2499, 2506, 2513, 2527, 2534, 2541, 2548, 2562, 2569, 2576, 2583, 2597, 2604, 2611, 2618, 2632, 2639, 2646, 2653, 2667, 2674, 2681, 2688, 2702, 2709, 2716, 2723, 2737, 2744, 2751, 2758, 2772, 2779, 2786, 2793, 2807, 2814, 2821, 2828, 2842, 2849, 2856, 2863, 2877, 2884, 2891, 2898, 2912, 2919, 2926, 2933, 2947, 2954, 2961, 2968, 2982, 2989, 2996, 3003, 3017, 3024, 3031, 3038, 3052, 3059, 3066, 3073, 3087, 3094, 3101, 3108, 3122, 3129, 3136, 3143, 3157, 3164, 3171, 3178, 3192, 3199]\n"
     ]
    }
   ],
   "source": [
    "# Question 01\n",
    "# Write a program which will find all such numbers which are divisible by 7 but are not a multiple of 5, between 2000 and 3200 (both included). \n",
    "# The numbers obtained should be printed in a comma-separated sequence on a single line.\n",
    "n=[]\n",
    "for i in range(2000,3201):\n",
    "  if((i%7==0) & (i%5!=0)):\n",
    "      n.append(i)\n",
    "        \n",
    "print(n)"
   ]
  },
  {
   "cell_type": "code",
   "execution_count": 28,
   "id": "ab2cb957-ac03-4413-a8e8-747b68648888",
   "metadata": {},
   "outputs": [
    {
     "name": "stdout",
     "output_type": "stream",
     "text": [
      "The factorial of 8 is : 40320\n"
     ]
    }
   ],
   "source": [
    "# Question 02\n",
    "# Write a program which can compute the factorial of a given numbers.\n",
    "#The results should be printed in a comma-separated sequence on a single line. \n",
    "# Suppose the following input is supplied to the program:8\n",
    "# Then, the output should be: 40320\n",
    "\n",
    "n = 8\n",
    "fact = 1\n",
    "  \n",
    "for i in range(1,n+1):\n",
    "    fact = fact * i\n",
    "      \n",
    "print (\"The factorial of 8 is : \",end=\"\")\n",
    "print (fact)"
   ]
  },
  {
   "cell_type": "code",
   "execution_count": 39,
   "id": "7035b306-b618-44c9-97e5-34269c96ff11",
   "metadata": {},
   "outputs": [
    {
     "name": "stdin",
     "output_type": "stream",
     "text": [
      "Enter number:  8\n"
     ]
    },
    {
     "name": "stdout",
     "output_type": "stream",
     "text": [
      "{1: 1, 2: 4, 3: 9, 4: 16, 5: 25, 6: 36, 7: 49, 8: 64}\n"
     ]
    }
   ],
   "source": [
    "# Question 03 \n",
    "# With a given integral number n, write a program to generate a dictionary that contains (i, i*i) such that is an integral number between 1 and n (both included). and then the program should print the dictionary. \n",
    "# Suppose the following input is supplied to the program: 8 \n",
    "# Then, the output should be: {1: 1, 2: 4, 3: 9, 4: 16, 5: 25, 6: 36, 7: 49, 8: 64}\n",
    "\n",
    "def generate_dictionary(n):\n",
    "  final_dict = {}\n",
    "  for i in range(1,n+1):\n",
    "    final_dict[i] = i*i\n",
    "  return final_dict\n",
    "\n",
    "final_dict = {}\n",
    "n = int(input(\"Enter number: \"))\n",
    "final_dict = generate_dictionary(n)\n",
    "print(final_dict)"
   ]
  },
  {
   "cell_type": "code",
   "execution_count": 40,
   "id": "0a74e12e-8c86-4421-9ceb-9595e309fdf5",
   "metadata": {},
   "outputs": [
    {
     "name": "stdin",
     "output_type": "stream",
     "text": [
      "Enter input  34,67,55,33,12,98\n"
     ]
    },
    {
     "name": "stdout",
     "output_type": "stream",
     "text": [
      "['34', '67', '55', '33', '12', '98']\n",
      "('34', '67', '55', '33', '12', '98')\n"
     ]
    }
   ],
   "source": [
    "# Question 04\n",
    "# Write a program which accepts a sequence of comma-separated numbers from console and generate a list and a tuple which contains every number.\n",
    "# Suppose the following input is supplied to the program: 34,67,55,33,12,98\n",
    "# Then, the output should be: ['34', '67', '55', '33', '12', '98'] ('34', '67', '55', '33', '12', '98')\n",
    "\n",
    "def generate_tuple_list(user_ip):\n",
    "  numbers = user_ip.split(',')\n",
    "  return numbers, tuple(numbers)\n",
    "\n",
    "user_ip = input(\"Enter input \")\n",
    "final_list,final_tuple = generate_tuple_list(user_ip)\n",
    "print(final_list)\n",
    "print(final_tuple)"
   ]
  },
  {
   "cell_type": "code",
   "execution_count": 42,
   "id": "4658a6d2-c008-4fee-8989-1c9b0020aa05",
   "metadata": {},
   "outputs": [
    {
     "name": "stdout",
     "output_type": "stream",
     "text": [
      "Class owner: CLEMSON\n"
     ]
    },
    {
     "name": "stdin",
     "output_type": "stream",
     "text": [
      "Enter the input:  Computing and Simulation for Autonomy\n"
     ]
    },
    {
     "name": "stdout",
     "output_type": "stream",
     "text": [
      "Output: COMPUTING AND SIMULATION FOR AUTONOMY\n"
     ]
    }
   ],
   "source": [
    "# Question 05\n",
    "# Define a class which has at least two methods:\n",
    "# getString: to get a string from console input\n",
    "# printString: to print the string in upper case.\n",
    "# Also please include simple test function to test the class methods.\n",
    "\n",
    "class string_operations:\n",
    "  def __init__(self,owner) -> None:\n",
    "    self.owner = owner\n",
    "\n",
    "  def getString(self):\n",
    "    input_string = input(\"Enter the input: \")\n",
    "    return input_string\n",
    "  \n",
    "  def printString(self,input_string):\n",
    "    return input_string.upper()\n",
    "\n",
    "Q5 = string_operations(\"CLEMSON\")\n",
    "print(f\"\"\"Class owner: {Q5.owner}\"\"\")\n",
    "input_string = Q5.getString()\n",
    "print(f\"\"\"Output: {Q5.printString(input_string)}\"\"\")"
   ]
  },
  {
   "cell_type": "code",
   "execution_count": 43,
   "id": "a8a3a647-3103-4c08-80be-661f362448f5",
   "metadata": {},
   "outputs": [
    {
     "name": "stdin",
     "output_type": "stream",
     "text": [
      "Input for D in comma separated format :  100,150,180\n"
     ]
    },
    {
     "name": "stdout",
     "output_type": "stream",
     "text": [
      "[18, 22, 24]\n"
     ]
    }
   ],
   "source": [
    "# Question 06\n",
    "# Write a program that calculates and prints the value according to the given formula:\n",
    "# Q = Square root of [(2 * C * D)/H]\n",
    "# Following are the fixed values of C and H:\n",
    "# C is 50. H is 30.\n",
    "# D is the variable whose values should be input to your program in a comma-separated sequence.\n",
    "# Example: Let us assume the following comma separated input sequence is given to the program: 100,150,180\n",
    "# The output of the program should be: 18,22,24\n",
    "\n",
    "import math\n",
    "from math import sqrt\n",
    "C,H = 50,30\n",
    "D = input(\"Input for D in comma separated format : \")\n",
    "D_list = D.split(',')\n",
    "Q_list = []\n",
    "for i in range(len(D_list)):\n",
    "  Q = round(math.sqrt((2*C*int(D_list[i]))/H))\n",
    "  Q_list.append(Q)\n",
    "print(Q_list)"
   ]
  },
  {
   "cell_type": "code",
   "execution_count": 44,
   "id": "2c346560-ceaa-4794-abca-20ba3f340e12",
   "metadata": {},
   "outputs": [
    {
     "name": "stdin",
     "output_type": "stream",
     "text": [
      "Value for X, Y in comma separated format :  3,5\n"
     ]
    },
    {
     "name": "stdout",
     "output_type": "stream",
     "text": [
      "[[0, 0, 0, 0, 0], [0, 1, 2, 3, 4], [0, 2, 4, 6, 8]]\n"
     ]
    }
   ],
   "source": [
    "# Question 07\n",
    "# Write a program which takes 2 digits, X,Y as input and generates a 2-dimensional array. The element value in the i-th row and j-th column of the array should be i*j.\n",
    "#Note: i=0,1.., X-1; j=0,1,.., Y-1.\n",
    "# Example: Suppose the following inputs are given to the program:3,5\n",
    "# Then, the output of the program should be:[[0, 0, 0, 0, 0], [0, 1, 2, 3, 4], [0, 2, 4, 6, 8]]\n",
    "\n",
    "input_dim = input(\"Value for X, Y in comma separated format : \")\n",
    "X,Y = int(input_dim.split(',')[0]),int(input_dim.split(',')[1])\n",
    "matrix = [[0]*Y for i in range(X)]\n",
    "for i in range(X):\n",
    "  for j in range(Y):\n",
    "    matrix[i][j]=i*j\n",
    "print(matrix)"
   ]
  },
  {
   "cell_type": "code",
   "execution_count": 46,
   "id": "ff68c68f-5de5-447a-86a7-9e00ea45ceab",
   "metadata": {},
   "outputs": [
    {
     "name": "stdin",
     "output_type": "stream",
     "text": [
      "Enter Bag of Words:  without,hello,bag,world\n"
     ]
    },
    {
     "name": "stdout",
     "output_type": "stream",
     "text": [
      "Sorted output: ['bag', 'hello', 'without', 'world']\n"
     ]
    }
   ],
   "source": [
    "# Question 08 \n",
    "# Write a program that accepts a comma separated sequence of words as input and prints the words in a comma-separated sequence after sorting them alphabetically.\n",
    "# Suppose the following input is supplied to the program: without,hello,bag,world\n",
    "# Then, the output should be:bag,hello,without,world\n",
    "\n",
    "bag_of_words = input(\"Enter Bag of Words: \")\n",
    "words = bag_of_words.split(',')\n",
    "words.sort()\n",
    "print(f\"\"\"Sorted output: {words}\"\"\")\n"
   ]
  },
  {
   "cell_type": "code",
   "execution_count": 49,
   "id": "b3453d13-a2dc-43b9-a2df-83b2d0cb0225",
   "metadata": {},
   "outputs": [
    {
     "name": "stdin",
     "output_type": "stream",
     "text": [
      " Hello world\n",
      " Practice makes perfect\n",
      " \n"
     ]
    },
    {
     "name": "stdout",
     "output_type": "stream",
     "text": [
      "HELLO WORLD\n",
      "PRACTICE MAKES PERFECT\n"
     ]
    }
   ],
   "source": [
    "# Question 09 \n",
    "#Write a program that accepts sequence of lines as input and prints the lines after making all characters in the sentence capitalized. Suppose the following input is supplied to the program:\n",
    "#Hello world\n",
    "#Practice makes perfect\n",
    "#Then, the output should be: HELLO WORLD\n",
    "#PRACTICE MAKES PERFECT\n",
    "\n",
    "sentences = []\n",
    "while True:\n",
    "    sentence = input()\n",
    "    if sentence == '':\n",
    "      break\n",
    "    else:\n",
    "      caps_sent = sentence.upper()\n",
    "      sentences.append(caps_sent)\n",
    "\n",
    "for sentence in sentences:\n",
    "    print(sentence)"
   ]
  },
  {
   "cell_type": "code",
   "execution_count": 50,
   "id": "b3522722-fa79-426e-ac5c-fe5cda61ee4c",
   "metadata": {},
   "outputs": [
    {
     "name": "stdin",
     "output_type": "stream",
     "text": [
      " hello world and practice makes perfect and hello world again\n"
     ]
    },
    {
     "name": "stdout",
     "output_type": "stream",
     "text": [
      "again and hello makes perfect practice world\n"
     ]
    }
   ],
   "source": [
    "# Question 10 \n",
    "# Write a program that accepts a sequence of whitespace separated words as input and prints the words after removing all duplicate words and sorting them alphanumerically.\n",
    "# Suppose the following input is supplied to the program:\n",
    "# hello world and practice makes perfect and hello world again\n",
    "# Then, the output should be:\n",
    "# again and hello makes perfect practice world\n",
    "\n",
    "sentence = input()\n",
    "words_dict = {}\n",
    "words_list = sentence.split(' ')\n",
    "for word in words_list:\n",
    "  if word in words_dict:\n",
    "    continue\n",
    "  else:\n",
    "    words_dict[word] = 1\n",
    "sorted_words = sorted(words_dict.keys())\n",
    "print(' '.join(sorted_words))"
   ]
  },
  {
   "cell_type": "code",
   "execution_count": 59,
   "id": "1d29b1fb-9754-4f1d-8292-d9421659c032",
   "metadata": {},
   "outputs": [
    {
     "name": "stdout",
     "output_type": "stream",
     "text": [
      "5.0 -3.5\n"
     ]
    }
   ],
   "source": [
    "# Question 11 (Reference no: 25)\n",
    "# Question: Define a class, which have a class parameter and have a same instance parameter.\n",
    "\n",
    "class Complex:\n",
    "     def __init__(self, real, Img):\n",
    "         self.r = real\n",
    "         self.i = Img\n",
    "\n",
    "x = Complex(5.0, -3.5)\n",
    "print(x.r, x.i)\n"
   ]
  },
  {
   "cell_type": "code",
   "execution_count": 52,
   "id": "941fd37a-7e3f-4711-9f47-8a45bc2b2844",
   "metadata": {},
   "outputs": [
    {
     "name": "stdout",
     "output_type": "stream",
     "text": [
      "dict_values([1, 4, 9, 16, 25, 36, 49, 64, 81, 100, 121, 144, 169, 196, 225, 256, 289, 324, 361, 400])\n"
     ]
    }
   ],
   "source": [
    "# Question 12 (Reference no: 35)\n",
    "# Define a function which can generate a dictionary where the keys are numbers between 1 and 20 (both included) and the values are square of keys. \n",
    "# The function should just print the values only.\n",
    "\n",
    "squares = {}\n",
    "for i in range(1,21):\n",
    "    squares[i] = i**2\n",
    "print(squares.values())\n"
   ]
  },
  {
   "cell_type": "code",
   "execution_count": 53,
   "id": "f156b512-8d3d-41ac-ba1b-8585d5b8d4ff",
   "metadata": {},
   "outputs": [
    {
     "name": "stdout",
     "output_type": "stream",
     "text": [
      "dict_keys([1, 2, 3, 4, 5, 6, 7, 8, 9, 10, 11, 12, 13, 14, 15, 16, 17, 18, 19, 20])\n"
     ]
    }
   ],
   "source": [
    "# Question 13 (Reference no: 36)\n",
    "# Define a function which can generate a dictionary where the keys are numbers between 1 and 20 (both included) and the values are square of keys. \n",
    "#The function should just print the keys only.\n",
    "\n",
    "squares = {}\n",
    "for i in range(1,21):\n",
    "    squares[i] = i**2\n",
    "print(squares.keys())"
   ]
  },
  {
   "cell_type": "code",
   "execution_count": 24,
   "id": "7ebfbf7b-87d1-4e4d-bc32-bfa27b7a8db4",
   "metadata": {},
   "outputs": [
    {
     "name": "stdout",
     "output_type": "stream",
     "text": [
      "[1, 4, 9, 16, 25, 36, 49, 64, 81, 100, 121, 144, 169, 196, 225, 256, 289, 324, 361, 400]\n"
     ]
    }
   ],
   "source": [
    "# Question 14 (Reference no: 37)\n",
    "# Define a function which can generate and print a list where the values are square of numbers between 1 and 20 (both included).\n",
    "\n",
    "def fun():\n",
    "    n=[]\n",
    "    for i in range(1, 21):\n",
    "        n.append(i**2)\n",
    "    print(n)\n",
    "    \n",
    "fun()"
   ]
  },
  {
   "cell_type": "code",
   "execution_count": 23,
   "id": "00e6bfc7-a136-43b0-b166-69bffffdb6d1",
   "metadata": {},
   "outputs": [
    {
     "name": "stdout",
     "output_type": "stream",
     "text": [
      "[12, 48, 60, 70, 86]\n"
     ]
    }
   ],
   "source": [
    "# Question 15 (Reference no: 43)\n",
    "# Write a program to generate and print another tuple whose values are even numbers in the given tuple (1,2,3,4,5,6,7,8,9,10)\n",
    "\n",
    "a=[12,25,37,48,59,60,70,86,93,109]\n",
    "\n",
    "t=[]\n",
    "for i in a:\n",
    "    if(i%2==0):\n",
    "        t.append(i)\n",
    "        \n",
    "print(t)"
   ]
  },
  {
   "cell_type": "code",
   "execution_count": 20,
   "id": "25e9f224-f01b-454d-ac50-890d4f54b6f4",
   "metadata": {},
   "outputs": [],
   "source": [
    "# Question 16 (Reference no: 51)\n",
    "# Define a class named American and its subclass NewYorker.\n",
    "\n",
    "#parent class\n",
    "class American():\n",
    "    def American_fun(self):\n",
    "        print(\"AMERICAN\")\n",
    "\n",
    "#child class\n",
    "class NewYorker(American):\n",
    "    def NewYorker_fun(self):\n",
    "        print(\"NEWYORKER\")"
   ]
  },
  {
   "cell_type": "code",
   "execution_count": 37,
   "id": "557bf7cf-1a24-4906-a9e2-f27608a62934",
   "metadata": {},
   "outputs": [
    {
     "name": "stdout",
     "output_type": "stream",
     "text": [
      "30\n"
     ]
    }
   ],
   "source": [
    "# Question 17 (Reference no: 53)\n",
    "# Define a class named Rectangle which can be constructed by a length and width.\n",
    "# The Rectangle class has a method which can compute the area.\n",
    "\n",
    "class Rectangle:\n",
    "    def __init__(self, leng, wid):\n",
    "        self.length = leng\n",
    "        self.width = wid\n",
    "    \n",
    "    def area(self):\n",
    "        return (self.length*self.width)\n",
    "\n",
    "a=Rectangle(6,5)\n",
    "print(a.area())"
   ]
  },
  {
   "cell_type": "code",
   "execution_count": 13,
   "id": "83771cd5-ab1a-4d63-8380-d0f7f1517335",
   "metadata": {},
   "outputs": [],
   "source": [
    "# Question 18 (Reference no: 54)\n",
    "# Define a class named Shape and its subclass Square. The Square class has an init function which takes a length as argument.\n",
    "# Both classes have a area function which can print the area of the shape where Shape's area is 0 by default.\n",
    "\n",
    "class Shape():\n",
    "    def area(self):\n",
    "        return 0\n",
    "\n",
    "class Square(Shape):\n",
    "    def _init_(self,leng):\n",
    "        self.length = leng\n",
    "\n",
    "    def area(self):\n",
    "        return pow(self.length,2)\n"
   ]
  },
  {
   "cell_type": "code",
   "execution_count": 11,
   "id": "04abef0b-d9d3-48a8-b4c3-db383b79e046",
   "metadata": {},
   "outputs": [
    {
     "name": "stdout",
     "output_type": "stream",
     "text": [
      "Zero Division Error\n"
     ]
    }
   ],
   "source": [
    "# Question 19 (Reference no: 56)\n",
    "# Write a function to compute 5/0 and use try/except to catch the exceptions.\n",
    "\n",
    "def fun(a,b):\n",
    "    try:\n",
    "        n=a//b \n",
    "        print(n,\" NO ERROR\")\n",
    "    except ZeroDivisionError:\n",
    "        print(\"Zero Division Error\")\n",
    "\n",
    "fun(5,0)"
   ]
  },
  {
   "cell_type": "code",
   "execution_count": 6,
   "id": "27f12d88-dfe3-48b7-8989-d9c84fc0b664",
   "metadata": {},
   "outputs": [
    {
     "name": "stdout",
     "output_type": "stream",
     "text": [
      "[12, 24, 35, 88, 120, 155]\n"
     ]
    }
   ],
   "source": [
    "# Question 20 (Reference no: 94)\n",
    "# With a given list [12,24,35,24,88,120,155,88,120,155]\n",
    "# write a program to print this list after removing all duplicate values with original order reserved.\n",
    "\n",
    "l =  [12,24,35,24,88,120,155,88,120,155]\n",
    "\n",
    "set1=set()\n",
    "a=[]\n",
    "\n",
    "for i in l:\n",
    "    if not i in set1:\n",
    "        a.append(i)\n",
    "        \n",
    "    set1.add(i)\n",
    "    \n",
    "print(a)"
   ]
  }
 ],
 "metadata": {
  "kernelspec": {
   "display_name": "Python 3",
   "language": "python",
   "name": "python3"
  },
  "language_info": {
   "codemirror_mode": {
    "name": "ipython",
    "version": 3
   },
   "file_extension": ".py",
   "mimetype": "text/x-python",
   "name": "python",
   "nbconvert_exporter": "python",
   "pygments_lexer": "ipython3",
   "version": "3.8.8"
  }
 },
 "nbformat": 4,
 "nbformat_minor": 5
}
